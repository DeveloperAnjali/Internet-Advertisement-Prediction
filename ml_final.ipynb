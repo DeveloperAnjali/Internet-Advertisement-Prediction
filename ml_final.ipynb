{
 "cells": [
  {
   "cell_type": "markdown",
   "metadata": {},
   "source": [
    "<b>IMPORTING MODULES</b>"
   ]
  },
  {
   "cell_type": "code",
   "execution_count": 1,
   "metadata": {},
   "outputs": [],
   "source": [
    "import numpy as np \n",
    "import pandas as pd\n",
    "import seaborn as sns\n",
    "import matplotlib.pyplot as plt\n",
    "from sklearn.tree import DecisionTreeClassifier\n",
    "from sklearn.model_selection import train_test_split\n",
    "from sklearn.linear_model import LogisticRegression\n",
    "from sklearn.metrics import classification_report\n",
    "from sklearn.metrics import accuracy_score\n",
    "import warnings\n",
    "from sklearn.decomposition import PCA\n",
    "from sklearn.preprocessing import StandardScaler\n",
    "from sklearn.metrics import confusion_matrix\n",
    "from sklearn import svm\n",
    "from sklearn.model_selection import GridSearchCV"
   ]
  },
  {
   "cell_type": "code",
   "execution_count": 2,
   "metadata": {},
   "outputs": [],
   "source": [
    "warnings.filterwarnings('ignore')"
   ]
  },
  {
   "cell_type": "markdown",
   "metadata": {},
   "source": [
    "<b>IMPORT DATASET FILE</b>"
   ]
  },
  {
   "cell_type": "code",
   "execution_count": 3,
   "metadata": {},
   "outputs": [
    {
     "name": "stdout",
     "output_type": "stream",
     "text": [
      "Dataset Length:  3279\n",
      "Dataset Shape:  (3279, 1560)\n",
      "   Unnamed: 0    0    1       2  3  4  5  6  7  8  ...  1549  1550  1551  \\\n",
      "0           0  125  125       1  1  0  0  0  0  0  ...     0     0     0   \n",
      "1           1   57  468  8.2105  1  0  0  0  0  0  ...     0     0     0   \n",
      "2           2   33  230  6.9696  1  0  0  0  0  0  ...     0     0     0   \n",
      "3           3   60  468     7.8  1  0  0  0  0  0  ...     0     0     0   \n",
      "4           4   60  468     7.8  1  0  0  0  0  0  ...     0     0     0   \n",
      "\n",
      "   1552  1553  1554  1555  1556  1557  1558  \n",
      "0     0     0     0     0     0     0   ad.  \n",
      "1     0     0     0     0     0     0   ad.  \n",
      "2     0     0     0     0     0     0   ad.  \n",
      "3     0     0     0     0     0     0   ad.  \n",
      "4     0     0     0     0     0     0   ad.  \n",
      "\n",
      "[5 rows x 1560 columns]\n"
     ]
    }
   ],
   "source": [
    "df=pd.read_csv('add.csv',low_memory=False,header=0)\n",
    "\n",
    "print (\"Dataset Length: \", len(df))\n",
    "print (\"Dataset Shape: \", df.shape)\n",
    "print(df.head())\n"
   ]
  },
  {
   "cell_type": "code",
   "execution_count": 4,
   "metadata": {},
   "outputs": [],
   "source": [
    "df=df.drop('Unnamed: 0',axis=1)\n",
    "df.columns=df.columns.astype('int')\n",
    "\n"
   ]
  },
  {
   "cell_type": "code",
   "execution_count": 5,
   "metadata": {},
   "outputs": [
    {
     "name": "stdout",
     "output_type": "stream",
     "text": [
      "  0    1       2    3     4     5     6     7     8     9     ...  1549  1550  \\\n",
      "0  125  125       1    1     0     0     0     0     0     0  ...     0     0   \n",
      "1   57  468  8.2105    1     0     0     0     0     0     0  ...     0     0   \n",
      "2   33  230  6.9696    1     0     0     0     0     0     0  ...     0     0   \n",
      "3   60  468     7.8    1     0     0     0     0     0     0  ...     0     0   \n",
      "4   60  468     7.8    1     0     0     0     0     0     0  ...     0     0   \n",
      "\n",
      "   1551  1552  1553  1554  1555  1556  1557  1558  \n",
      "0     0     0     0     0     0     0     0   ad.  \n",
      "1     0     0     0     0     0     0     0   ad.  \n",
      "2     0     0     0     0     0     0     0   ad.  \n",
      "3     0     0     0     0     0     0     0   ad.  \n",
      "4     0     0     0     0     0     0     0   ad.  \n",
      "\n",
      "[5 rows x 1559 columns]\n",
      "<class 'pandas.core.frame.DataFrame'>\n",
      "RangeIndex: 3279 entries, 0 to 3278\n",
      "Columns: 1559 entries, 0 to 1558\n",
      "dtypes: int64(1554), object(5)\n",
      "memory usage: 39.0+ MB\n",
      "None\n"
     ]
    }
   ],
   "source": [
    "print(df.head())\n",
    "print(df.info())"
   ]
  },
  {
   "cell_type": "markdown",
   "metadata": {},
   "source": [
    "<b> DEALING WITH MISSING VALUES</b>"
   ]
  },
  {
   "cell_type": "code",
   "execution_count": 6,
   "metadata": {},
   "outputs": [],
   "source": [
    "def count_missing(df):\n",
    "    newdf=df.iloc[:,[0,1,2,3]]\n",
    "    newdf=newdf.applymap(lambda x:'?' in x)\n",
    "    plt.figure(figsize=(17,5))\n",
    "    plt.title(\"Missing values HeatMap\")\n",
    "    print(sns.heatmap(newdf,cbar=False,yticklabels=False,cmap='viridis'))\n",
    "    for i in (newdf):\n",
    "        print('column['+str(i)+'] has missing values -'+str(sum(newdf[i])))"
   ]
  },
  {
   "cell_type": "code",
   "execution_count": 7,
   "metadata": {},
   "outputs": [
    {
     "name": "stdout",
     "output_type": "stream",
     "text": [
      "AxesSubplot(0.125,0.125;0.775x0.755)\n",
      "column[0] has missing values -903\n",
      "column[1] has missing values -901\n",
      "column[2] has missing values -910\n",
      "column[3] has missing values -15\n"
     ]
    },
    {
     "data": {
      "image/png": "[encoded data removed]",
      "text/plain": [
       "<Figure size 1224x360 with 1 Axes>"
      ]
     },
     "metadata": {
      "needs_background": "light"
     },
     "output_type": "display_data"
    }
   ],
   "source": [
    " count_missing(df)"
   ]
  },
  {
   "cell_type": "code",
   "execution_count": 8,
   "metadata": {},
   "outputs": [],
   "source": [
    "\n",
    "def replace_missing(df):\n",
    "    for i in df:\n",
    "        df[i]=df[i].replace('[?]',np.NAN,regex=True).astype('float')\n",
    "        df[i]=df[i].fillna(df[i].mean())\n",
    "    return df"
   ]
  },
  {
   "cell_type": "code",
   "execution_count": 9,
   "metadata": {},
   "outputs": [],
   "source": [
    "df[[0,1,2,3]]=replace_missing(df.iloc[:,[0,1,2,3]].copy()).values"
   ]
  },
  {
   "cell_type": "code",
   "execution_count": 11,
   "metadata": {},
   "outputs": [],
   "source": [
    "df[3]=df[3].apply(lambda x:round(x))"
   ]
  },
  {
   "cell_type": "markdown",
   "metadata": {},
   "source": [
    "<b>EXPLORATORY DATA ANALYSIS</b>"
   ]
  },
  {
   "cell_type": "code",
   "execution_count": 12,
   "metadata": {},
   "outputs": [
    {
     "data": {
      "text/html": [
       "<div>\n",
       "<style scoped>\n",
       "    .dataframe tbody tr th:only-of-type {\n",
       "        vertical-align: middle;\n",
       "    }\n",
       "\n",
       "    .dataframe tbody tr th {\n",
       "        vertical-align: top;\n",
       "    }\n",
       "\n",
       "    .dataframe thead th {\n",
       "        text-align: right;\n",
       "    }\n",
       "</style>\n",
       "<table border=\"1\" class=\"dataframe\">\n",
       "  <thead>\n",
       "    <tr style=\"text-align: right;\">\n",
       "      <th></th>\n",
       "      <th>0</th>\n",
       "      <th>1</th>\n",
       "      <th>2</th>\n",
       "      <th>3</th>\n",
       "    </tr>\n",
       "  </thead>\n",
       "  <tbody>\n",
       "    <tr>\n",
       "      <th>count</th>\n",
       "      <td>3279.000000</td>\n",
       "      <td>3279.000000</td>\n",
       "      <td>3279.000000</td>\n",
       "      <td>3279.000000</td>\n",
       "    </tr>\n",
       "    <tr>\n",
       "      <th>mean</th>\n",
       "      <td>64.021886</td>\n",
       "      <td>155.344828</td>\n",
       "      <td>3.911953</td>\n",
       "      <td>0.768222</td>\n",
       "    </tr>\n",
       "    <tr>\n",
       "      <th>std</th>\n",
       "      <td>46.703695</td>\n",
       "      <td>110.729038</td>\n",
       "      <td>5.136153</td>\n",
       "      <td>0.422032</td>\n",
       "    </tr>\n",
       "    <tr>\n",
       "      <th>min</th>\n",
       "      <td>1.000000</td>\n",
       "      <td>1.000000</td>\n",
       "      <td>0.001500</td>\n",
       "      <td>0.000000</td>\n",
       "    </tr>\n",
       "    <tr>\n",
       "      <th>25%</th>\n",
       "      <td>32.500000</td>\n",
       "      <td>90.000000</td>\n",
       "      <td>1.279400</td>\n",
       "      <td>1.000000</td>\n",
       "    </tr>\n",
       "    <tr>\n",
       "      <th>50%</th>\n",
       "      <td>64.021886</td>\n",
       "      <td>150.000000</td>\n",
       "      <td>3.911953</td>\n",
       "      <td>1.000000</td>\n",
       "    </tr>\n",
       "    <tr>\n",
       "      <th>75%</th>\n",
       "      <td>64.021886</td>\n",
       "      <td>155.344828</td>\n",
       "      <td>3.911953</td>\n",
       "      <td>1.000000</td>\n",
       "    </tr>\n",
       "    <tr>\n",
       "      <th>max</th>\n",
       "      <td>640.000000</td>\n",
       "      <td>640.000000</td>\n",
       "      <td>60.000000</td>\n",
       "      <td>1.000000</td>\n",
       "    </tr>\n",
       "  </tbody>\n",
       "</table>\n",
       "</div>"
      ],
      "text/plain": [
       "                 0            1            2            3\n",
       "count  3279.000000  3279.000000  3279.000000  3279.000000\n",
       "mean     64.021886   155.344828     3.911953     0.768222\n",
       "std      46.703695   110.729038     5.136153     0.422032\n",
       "min       1.000000     1.000000     0.001500     0.000000\n",
       "25%      32.500000    90.000000     1.279400     1.000000\n",
       "50%      64.021886   150.000000     3.911953     1.000000\n",
       "75%      64.021886   155.344828     3.911953     1.000000\n",
       "max     640.000000   640.000000    60.000000     1.000000"
      ]
     },
     "execution_count": 12,
     "metadata": {},
     "output_type": "execute_result"
    }
   ],
   "source": [
    "df[[0,1,2,3]].describe()"
   ]
  },
  {
   "cell_type": "markdown",
   "metadata": {},
   "source": [
    "<b>OUTLIERS IN THE DATASET</b>"
   ]
  },
  {
   "cell_type": "code",
   "execution_count": 13,
   "metadata": {},
   "outputs": [
    {
     "data": {
      "image/png": "[encoded data removed]",
      "text/plain": [
       "<Figure size 1080x720 with 1 Axes>"
      ]
     },
     "metadata": {
      "needs_background": "light"
     },
     "output_type": "display_data"
    }
   ],
   "source": [
    "plt.figure(figsize=(15,10))\n",
    "sns.boxplot(x=1558,y=1,data=df)\n",
    "plt.xlabel('label-add/non-ad')\n",
    "plt.ylabel('width')\n",
    "plt.title(\"Boxplot-  Target Vs Width \")\n",
    "plt.show()"
   ]
  },
  {
   "cell_type": "markdown",
   "metadata": {},
   "source": [
    "<b> FEATURE SCALING</b>"
   ]
  },
  {
   "cell_type": "code",
   "execution_count": 14,
   "metadata": {},
   "outputs": [],
   "source": [
    "sc = StandardScaler()\n",
    "# Factorization \n",
    "df.loc[df[1558] == 'ad.', 1558] = '1'\n",
    "df.loc[df[1558] == 'nonad.', 1558] = '0'\n",
    "x = df.iloc[:,:-1]\n",
    "x = pd.DataFrame(sc.fit_transform(x), index=x.index, columns=x.columns)\n",
    "y = df.iloc[:, -1]"
   ]
  },
  {
   "cell_type": "code",
   "execution_count": 15,
   "metadata": {
    "scrolled": true
   },
   "outputs": [
    {
     "data": {
      "text/plain": [
       "0    1\n",
       "1    1\n",
       "2    1\n",
       "3    1\n",
       "4    1\n",
       "Name: 1558, dtype: object"
      ]
     },
     "execution_count": 15,
     "metadata": {},
     "output_type": "execute_result"
    }
   ],
   "source": [
    "y[0:5]"
   ]
  },
  {
   "cell_type": "code",
   "execution_count": 16,
   "metadata": {},
   "outputs": [
    {
     "data": {
      "image/png": "[encoded data removed]",
      "text/plain": [
       "<Figure size 432x288 with 1 Axes>"
      ]
     },
     "metadata": {
      "needs_background": "light"
     },
     "output_type": "display_data"
    }
   ],
   "source": [
    "sns.countplot(data=df,y=1558,palette='husl')\n",
    "plt.title(\"Frequency of Targets\")\n",
    "plt.show()\n"
   ]
  },
  {
   "cell_type": "markdown",
   "metadata": {},
   "source": [
    "<b> SPLITTING THE DATA</b>"
   ]
  },
  {
   "cell_type": "code",
   "execution_count": 17,
   "metadata": {},
   "outputs": [],
   "source": [
    "X_train, X_test, y_train, y_test = train_test_split(x, y, test_size=0.3)\n"
   ]
  },
  {
   "cell_type": "markdown",
   "metadata": {},
   "source": [
    "<b>PRINCIPLE COMPONENT ANALYSIS (PCA)</b>"
   ]
  },
  {
   "cell_type": "code",
   "execution_count": 18,
   "metadata": {},
   "outputs": [
    {
     "data": {
      "text/plain": [
       "Text(0, 0.5, 'cumulative explained variance')"
      ]
     },
     "execution_count": 18,
     "metadata": {},
     "output_type": "execute_result"
    },
    {
     "data": {
      "image/png": "[encoded data removed]",
      "text/plain": [
       "<Figure size 432x288 with 1 Axes>"
      ]
     },
     "metadata": {
      "needs_background": "light"
     },
     "output_type": "display_data"
    }
   ],
   "source": [
    "pca=PCA().fit(x)\n",
    "plt.plot(np.cumsum(pca.explained_variance_ratio_))\n",
    "plt.xlabel('number of components')\n",
    "plt.ylabel('cumulative explained variance')"
   ]
  },
  {
   "cell_type": "code",
   "execution_count": 19,
   "metadata": {},
   "outputs": [
    {
     "data": {
      "text/plain": [
       "PCA(n_components=400)"
      ]
     },
     "execution_count": 19,
     "metadata": {},
     "output_type": "execute_result"
    }
   ],
   "source": [
    "n_components = 400;\n",
    "pca = PCA(n_components=n_components)\n",
    "PCA(copy=True, iterated_power='auto', n_components=n_components, random_state=None, svd_solver='auto', tol=0.0, whiten=False)"
   ]
  },
  {
   "cell_type": "code",
   "execution_count": 20,
   "metadata": {},
   "outputs": [
    {
     "data": {
      "text/plain": [
       "PCA(n_components=400)"
      ]
     },
     "execution_count": 20,
     "metadata": {},
     "output_type": "execute_result"
    }
   ],
   "source": [
    "pca.fit(X_train)\n"
   ]
  },
  {
   "cell_type": "code",
   "execution_count": 21,
   "metadata": {},
   "outputs": [],
   "source": [
    "X_train_PCA = pca.transform(X_train)\n",
    "X_test_PCA = pca.transform(X_test)\n"
   ]
  },
  {
   "cell_type": "markdown",
   "metadata": {},
   "source": [
    "<b>LOGISTIC REGRESSION</b>"
   ]
  },
  {
   "cell_type": "code",
   "execution_count": 23,
   "metadata": {},
   "outputs": [
    {
     "name": "stdout",
     "output_type": "stream",
     "text": [
      "[[836  13]\n",
      " [ 19 116]]\n",
      "              precision    recall  f1-score   support\n",
      "\n",
      "           0       0.98      0.98      0.98       849\n",
      "           1       0.90      0.86      0.88       135\n",
      "\n",
      "    accuracy                           0.97       984\n",
      "   macro avg       0.94      0.92      0.93       984\n",
      "weighted avg       0.97      0.97      0.97       984\n",
      "\n",
      "96.7479674796748\n"
     ]
    }
   ],
   "source": [
    "clf_lr=LogisticRegression()\n",
    "clf_lr.fit(X_train_PCA,y_train)\n",
    "pred = clf_lr.predict(X_test_PCA)\n",
    "print(confusion_matrix(y_test, pred))\n",
    "print(classification_report(y_test, pred))\n",
    "acc_lr=(accuracy_score(y_test,pred)*100)\n",
    "print(acc_lr)\n"
   ]
  },
  {
   "cell_type": "markdown",
   "metadata": {},
   "source": [
    "<b>DECISION TREE</b>"
   ]
  },
  {
   "cell_type": "code",
   "execution_count": 24,
   "metadata": {},
   "outputs": [
    {
     "name": "stdout",
     "output_type": "stream",
     "text": [
      "[[831  18]\n",
      " [ 26 109]]\n",
      "              precision    recall  f1-score   support\n",
      "\n",
      "           0       0.97      0.98      0.97       849\n",
      "           1       0.86      0.81      0.83       135\n",
      "\n",
      "    accuracy                           0.96       984\n",
      "   macro avg       0.91      0.89      0.90       984\n",
      "weighted avg       0.95      0.96      0.95       984\n",
      "\n",
      "95.52845528455285\n"
     ]
    }
   ],
   "source": [
    "    clf_entropy = DecisionTreeClassifier(\n",
    "\n",
    "    criterion = \"entropy\", random_state = 100,\n",
    "    max_depth = 4, min_samples_leaf = 2)\n",
    "\n",
    "\n",
    "    clf_entropy.fit(X_train_PCA, y_train)\n",
    "    \n",
    "    pred2 = clf_entropy.predict(X_test_PCA)\n",
    "    print(confusion_matrix(y_test, pred2))\n",
    "    print(classification_report(y_test, pred2))\n",
    "    acc_dt=(accuracy_score(y_test,pred2)*100)\n",
    "    print(acc_dt)"
   ]
  },
  {
   "cell_type": "markdown",
   "metadata": {},
   "source": [
    "<b> SVM(GridSearchCV)</b>"
   ]
  },
  {
   "cell_type": "code",
   "execution_count": 26,
   "metadata": {
    "scrolled": true
   },
   "outputs": [
    {
     "name": "stdout",
     "output_type": "stream",
     "text": [
      "Fitting 10 folds for each of 6 candidates, totalling 60 fits\n"
     ]
    },
    {
     "name": "stderr",
     "output_type": "stream",
     "text": [
      "[Parallel(n_jobs=-1)]: Using backend LokyBackend with 4 concurrent workers.\n",
      "[Parallel(n_jobs=-1)]: Done  42 tasks      | elapsed:   13.0s\n",
      "[Parallel(n_jobs=-1)]: Done  60 out of  60 | elapsed:   18.3s finished\n"
     ]
    },
    {
     "name": "stdout",
     "output_type": "stream",
     "text": [
      "96.64634146341463\n"
     ]
    }
   ],
   "source": [
    "params={'C':(0.001,0.005,0.01,0.5,0.1,1)}\n",
    "clf_l=svm.SVC(kernel='linear')\n",
    "svm_grid_lin=GridSearchCV(clf_l,params,n_jobs=-1,cv=10,verbose=1,scoring='accuracy')\n",
    "svm_grid_lin.fit(X_train_PCA,y_train)\n",
    "\n",
    "linsvm_clf=svm_grid_lin.best_estimator_\n",
    "acc_svml=(accuracy_score(y_test,linsvm_clf.predict(X_test_PCA)))*100\n",
    "print(acc_svml)"
   ]
  },
  {
   "cell_type": "code",
   "execution_count": 27,
   "metadata": {},
   "outputs": [
    {
     "data": {
      "text/plain": [
       "{'C': 0.005}"
      ]
     },
     "execution_count": 27,
     "metadata": {},
     "output_type": "execute_result"
    }
   ],
   "source": [
    "svm_grid_lin.best_params_"
   ]
  },
  {
   "cell_type": "code",
   "execution_count": 28,
   "metadata": {},
   "outputs": [
    {
     "name": "stdout",
     "output_type": "stream",
     "text": [
      "Fitting 10 folds for each of 6 candidates, totalling 60 fits\n"
     ]
    },
    {
     "name": "stderr",
     "output_type": "stream",
     "text": [
      "[Parallel(n_jobs=-1)]: Using backend LokyBackend with 4 concurrent workers.\n",
      "[Parallel(n_jobs=-1)]: Done  42 tasks      | elapsed:   27.1s\n",
      "[Parallel(n_jobs=-1)]: Done  60 out of  60 | elapsed:   36.0s finished\n"
     ]
    },
    {
     "name": "stdout",
     "output_type": "stream",
     "text": [
      "93.90243902439023\n"
     ]
    }
   ],
   "source": [
    "params={'C':(0.001,0.005,0.01,0.5,0.1,1)}\n",
    "clf_p=svm.SVC(kernel='poly',degree=2)\n",
    "svm_grid_pol=GridSearchCV(clf_p,params,n_jobs=-1,cv=10,verbose=1,scoring='accuracy')\n",
    "svm_grid_pol.fit(X_train_PCA,y_train)\n",
    "\n",
    "polsvm_clf=svm_grid_pol.best_estimator_\n",
    "acc_svmp=(accuracy_score(y_test,polsvm_clf.predict(X_test_PCA)))*100\n",
    "print(acc_svmp)"
   ]
  },
  {
   "cell_type": "code",
   "execution_count": 29,
   "metadata": {},
   "outputs": [
    {
     "data": {
      "text/plain": [
       "{'C': 1}"
      ]
     },
     "execution_count": 29,
     "metadata": {},
     "output_type": "execute_result"
    }
   ],
   "source": [
    "svm_grid_pol.best_params_"
   ]
  },
  {
   "cell_type": "code",
   "execution_count": 30,
   "metadata": {},
   "outputs": [
    {
     "name": "stdout",
     "output_type": "stream",
     "text": [
      "Fitting 10 folds for each of 30 candidates, totalling 300 fits\n"
     ]
    },
    {
     "name": "stderr",
     "output_type": "stream",
     "text": [
      "[Parallel(n_jobs=-1)]: Using backend LokyBackend with 4 concurrent workers.\n",
      "[Parallel(n_jobs=-1)]: Done  42 tasks      | elapsed:   27.0s\n",
      "[Parallel(n_jobs=-1)]: Done 192 tasks      | elapsed:  3.1min\n",
      "[Parallel(n_jobs=-1)]: Done 300 out of 300 | elapsed:  5.3min finished\n"
     ]
    },
    {
     "name": "stdout",
     "output_type": "stream",
     "text": [
      "95.73170731707317\n"
     ]
    }
   ],
   "source": [
    "params={'C':(0.001,0.005,0.01,0.5,0.1,1),'gamma':(0.001,0.01,0.1,0.5,1)}\n",
    "clf_r=svm.SVC(kernel='rbf')\n",
    "svm_grid_rad=GridSearchCV(clf_r,params,n_jobs=-1,cv=10,verbose=1,scoring='accuracy')\n",
    "svm_grid_rad.fit(X_train_PCA,y_train)\n",
    "\n",
    "radsvm_clf=svm_grid_rad.best_estimator_\n",
    "acc_svmr=(accuracy_score(y_test,radsvm_clf.predict(X_test_PCA)))*100\n",
    "print(acc_svmr)"
   ]
  },
  {
   "cell_type": "code",
   "execution_count": 31,
   "metadata": {},
   "outputs": [
    {
     "data": {
      "text/plain": [
       "{'C': 1, 'gamma': 0.001}"
      ]
     },
     "execution_count": 31,
     "metadata": {},
     "output_type": "execute_result"
    }
   ],
   "source": [
    "svm_grid_rad.best_params_"
   ]
  },
  {
   "cell_type": "markdown",
   "metadata": {},
   "source": [
    "<b>COMPARISON CHART</b>"
   ]
  },
  {
   "cell_type": "code",
   "execution_count": 35,
   "metadata": {},
   "outputs": [
    {
     "data": {
      "image/png": "[encoded data removed]",
      "text/plain": [
       "<Figure size 432x288 with 1 Axes>"
      ]
     },
     "metadata": {
      "needs_background": "light"
     },
     "output_type": "display_data"
    }
   ],
   "source": [
    "figure=plt.figure()\n",
    "ax=figure.add_axes([0,0,1,1])\n",
    "models=['Logistic Regression','Decision Tree','SVM(linear)','SVM(polynomial)','SVM(radial)']\n",
    "accuracy_rate=[acc_lr,acc_dt,acc_svml,acc_svmp,acc_svmr]\n",
    "ax.bar(models,accuracy_rate)\n",
    "plt.show()"
   ]
  },
  {
   "cell_type": "code",
   "execution_count": null,
   "metadata": {},
   "outputs": [],
   "source": []
  }
 ],
 "metadata": {
  "kernelspec": {
   "display_name": "Python 3",
   "language": "python",
   "name": "python3"
  },
  "language_info": {
   "codemirror_mode": {
    "name": "ipython",
    "version": 3
   },
   "file_extension": ".py",
   "mimetype": "text/x-python",
   "name": "python",
   "nbconvert_exporter": "python",
   "pygments_lexer": "ipython3",
   "version": "3.8.5"
  }
 },
 "nbformat": 4,
 "nbformat_minor": 4
}
